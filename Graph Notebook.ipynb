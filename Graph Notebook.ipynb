{
 "cells": [
  {
   "cell_type": "code",
   "execution_count": 2,
   "metadata": {},
   "outputs": [],
   "source": [
    "import pandas as pd\n",
    "import numpy as np\n",
    "import matplotlib.pyplot as plt\n",
    "from sqlalchemy import create_engine\n",
    "# load data from database\n",
    "engine = create_engine('sqlite:///data/DisasterResponse.db')\n",
    "df = pd.read_sql_table('Disaster_Response_Table', engine)"
   ]
  },
  {
   "cell_type": "code",
   "execution_count": 2,
   "metadata": {},
   "outputs": [
    {
     "data": {
      "text/plain": [
       "<BarContainer object of 3 artists>"
      ]
     },
     "execution_count": 2,
     "metadata": {},
     "output_type": "execute_result"
    },
    {
     "data": {
      "image/png": "[encoded data removed]",
      "text/plain": [
       "<Figure size 432x288 with 1 Axes>"
      ]
     },
     "metadata": {
      "needs_background": "light"
     },
     "output_type": "display_data"
    }
   ],
   "source": [
    "#Calculate number of messages in each genre\n",
    "Genre_distribution = df.groupby('genre').count()\n",
    "\n",
    "#Plot out the result\n",
    "X_genre = Genre_distribution.index\n",
    "Y_genre = Genre_distribution.iloc[:,0]\n",
    "plt.bar(X_genre, Y_genre)"
   ]
  },
  {
   "cell_type": "code",
   "execution_count": 3,
   "metadata": {},
   "outputs": [],
   "source": [
    "#Calculate number of messages in each type\n",
    "Quantity_Type = df.sum(axis=0)\n",
    "\n",
    "#Plot out the result\n",
    "X_type_count = Quantity_Type.iloc[3:].index\n",
    "Y_type_count = Quantity_Type.iloc[3:].values\n",
    "plt.figure(figsize=[20,10])\n",
    "plt.xticks(rotation=45)\n",
    "plt.bar(X_type_count, Y_type_count)"
   ]
  },
  {
   "cell_type": "code",
   "execution_count": 29,
   "metadata": {},
   "outputs": [
    {
     "data": {
      "text/plain": [
       "'temp-plot.html'"
      ]
     },
     "execution_count": 29,
     "metadata": {},
     "output_type": "execute_result"
    }
   ],
   "source": [
    "#Try out plotly graph\n",
    "import json\n",
    "import plotly\n",
    "from plotly.graph_objs import Bar\n",
    "from flask import Flask\n",
    "from flask import render_template\n",
    "    \n",
    "genre_counts = df.groupby('genre').count()['message']\n",
    "genre_names = list(genre_counts.index)\n",
    "\n",
    "graphs = [\n",
    "        {\n",
    "            'data': [\n",
    "                {'x':list(Metrics.iloc[:,0]),\n",
    "                 'y':list(Metrics['RandomForest_f1_score']),\n",
    "                 'name':'RandomForest',\n",
    "                 'mode':'lines+markers'},\n",
    "                 {'x':list(Metrics.iloc[:,0]),\n",
    "                 'y':list(Metrics['RandomForest with New Feature_f1_score']),\n",
    "                 'name':'RandomForest with Custom Feature',\n",
    "                 'mode':'lines+markers'},\n",
    "                {'x':list(Metrics.iloc[:,0]),\n",
    "                 'y':list(Metrics['AdaBoostClassifier_f1_score']),\n",
    "                 'name':'AdaBoost',\n",
    "                 'mode':'lines+markers'},\n",
    "                {'x':list(Metrics.iloc[:,0]),\n",
    "                 'y':list(Metrics['AdaBoostClassifier with New Feature_f1_score']),\n",
    "                 'name':'AdaBoost with Custom Feature',\n",
    "                 'mode':'lines+markers'}\n",
    "               \n",
    "            ],\n",
    "\n",
    "            'layout': {\n",
    "                'title': 'f1 score Comparison of Algorithms',\n",
    "                'yaxis': {\n",
    "                    'title': \"f1 score\"\n",
    "                },\n",
    "                'xaxis': {\n",
    "                    'title': \"Categories\"\n",
    "                }\n",
    "            }\n",
    "        }\n",
    "        \n",
    "    ]\n",
    "    \n",
    "plotly.offline.plot(graphs[0])\n"
   ]
  },
  {
   "cell_type": "code",
   "execution_count": null,
   "metadata": {},
   "outputs": [],
   "source": []
  }
 ],
 "metadata": {
  "kernelspec": {
   "display_name": "Python 3",
   "language": "python",
   "name": "python3"
  },
  "language_info": {
   "codemirror_mode": {
    "name": "ipython",
    "version": 3
   },
   "file_extension": ".py",
   "mimetype": "text/x-python",
   "name": "python",
   "nbconvert_exporter": "python",
   "pygments_lexer": "ipython3",
   "version": "3.7.4"
  }
 },
 "nbformat": 4,
 "nbformat_minor": 2
}
